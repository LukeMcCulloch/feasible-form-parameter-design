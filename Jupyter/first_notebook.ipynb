{
 "cells": [
  {
   "cell_type": "markdown",
   "metadata": {},
   "source": [
    "#### In this little notebook we show how to access the relational_lsplines code.\n",
    "\n",
    "* First let's import the basic library"
   ]
  },
  {
   "cell_type": "code",
   "execution_count": 25,
   "metadata": {
    "collapsed": false
   },
   "outputs": [],
   "source": [
    "import relational_lsplines as rlspline"
   ]
  },
  {
   "cell_type": "markdown",
   "metadata": {
    "collapsed": true
   },
   "source": [
    "* And we want the rules tiny interface language and miniKanren-esque logic programming stuff"
   ]
  },
  {
   "cell_type": "code",
   "execution_count": 26,
   "metadata": {
    "collapsed": true
   },
   "outputs": [],
   "source": [
    "lp = rlspline.lp # miniKanren - like relational logic, extended for intervals.\n",
    "ia = rlspline.ia # interval arithmetic class"
   ]
  },
  {
   "cell_type": "markdown",
   "metadata": {
    "collapsed": false
   },
   "source": [
    "* Next let's get access to the search code"
   ]
  },
  {
   "cell_type": "code",
   "execution_count": 27,
   "metadata": {
    "collapsed": true
   },
   "outputs": [],
   "source": [
    "from relational_lsplines.simple_hull_rules_language import HullGeometryGenerator"
   ]
  },
  {
   "cell_type": "markdown",
   "metadata": {},
   "source": [
    "* Make some design variables.  In our tiny language, these are called PStates objects."
   ]
  },
  {
   "cell_type": "code",
   "execution_count": 28,
   "metadata": {
    "collapsed": true
   },
   "outputs": [],
   "source": [
    "\"\"\"Make some design space variables:\n",
    "\"\"\"\n",
    "lwl = lp.PStates(name='lwl')\n",
    "bwl = lp.PStates(name='bwl')\n",
    "draft = lp.PStates(name='draft')\n",
    "vol = lp.PStates(name='vol')\n",
    "disp = lp.PStates(name='disp')\n",
    "\n",
    "Cb = lp.PStates(name='Cb')\n",
    "Cp = lp.PStates(name='Cp')\n"
   ]
  },
  {
   "cell_type": "markdown",
   "metadata": {},
   "source": [
    "* Make some basic relationships.  These relationships between variables can represent various things.\n",
    "* For example, we could simply say that one variable is equivalent to another:"
   ]
  },
  {
   "cell_type": "code",
   "execution_count": 29,
   "metadata": {
    "collapsed": true
   },
   "outputs": [],
   "source": [
    "disp = disp == vol"
   ]
  },
  {
   "cell_type": "markdown",
   "metadata": {},
   "source": [
    "* Or, as another example, we could write down some relationship from naval architecture that must hold:"
   ]
  },
  {
   "cell_type": "code",
   "execution_count": 30,
   "metadata": {
    "collapsed": true
   },
   "outputs": [],
   "source": [
    "\"\"\"-----------------------------------------------\n",
    "#rule: block coefficient\n",
    "\"\"\"\n",
    "Cb = Cb == vol/(lwl*bwl*draft)"
   ]
  },
  {
   "cell_type": "markdown",
   "metadata": {},
   "source": [
    "* The slightly odd syntax is there because we are using an internal domain specific language.\n",
    "* It says $C_b$ is equal to $vol$ divided by $lwl \\times bwl \\times draft$\n",
    "* I am going to skip out of line here and tell you that this computation runs... \"all directions\".\n",
    "This is what it means to say that we are programming \"relationally\"\n",
    "* We are following in the footsteps of the logic programming language Prolog and especially the relational logic programming langauge miniKanren, but with a focus on intervals. (It's a long story)\n",
    "* This tiny language includes a declarative logic programming engine which understands interval arithmetic.\n",
    "* It uses python to parse itsef, which really makes things easy and fun to work with!  (trust me)\n",
    "* I think it's fun to look at lthe computation tree self assembled by the language when we write these rules.\n",
    "\n",
    "For example, the computation tree for this funny looking, but simple, rule from above:\n",
    "\n",
    "\n",
    "   $C_{b} = C_{b} == vol/(lwl*bwl*draft)$ \n",
    "\n",
    "\n",
    "Looks like this:\n"
   ]
  },
  {
   "cell_type": "code",
   "execution_count": 31,
   "metadata": {
    "collapsed": false
   },
   "outputs": [
    {
     "name": "stdout",
     "output_type": "stream",
     "text": [
      "'Cb'==\n",
      "   'v9'/\n",
      "      'vol' \n",
      "        \n",
      "      'v8'*\n",
      "         'v7'*\n",
      "            'lwl' \n",
      "        \n",
      "            'bwl' \n",
      "        \n",
      "         'draft' \n",
      "        \n",
      "\n"
     ]
    }
   ],
   "source": [
    "print Cb"
   ]
  },
  {
   "cell_type": "markdown",
   "metadata": {},
   "source": [
    "* As you might see, the printed contents of $C_{b}$ are a tree.  $C_{b}$ is what I call the 'top node' of this tree.  It's also the node which most clearly encapsulates the rule, loosely speaking. \n",
    "\n",
    "* When we created the rule above, the tiny language created this computational graph for us, using python internally to figure out the parsing.\n",
    "\n",
    "### PStates objects parse themselves to build up computational graphs. \n",
    "\n",
    "* Another part of the tiny language can read this graph and construct a list of rules for us that will make the design space honor the relationship we've just spelled out here.  (We will access it with a function called \"set_rules\" in just a little bit)\n",
    "\n",
    "* It might be worth noting that the extra data you see in the tree - that is, the 'number-names' - those parts of the tree, symbols $v16$, $v17$, and $v18$, which do not match up with variables we've input above, are actually placeholders which store partial evaluations of the rule for us.  That is, when any computer programming language has to evaluate something like a mathematical expression:\n"
   ]
  },
  {
   "cell_type": "code",
   "execution_count": 32,
   "metadata": {
    "collapsed": true
   },
   "outputs": [],
   "source": [
    "a = 1\n",
    "b = 2\n",
    "c = 3\n",
    "d = a*(a+b+c)"
   ]
  },
  {
   "cell_type": "markdown",
   "metadata": {},
   "source": [
    "* Underneath the hood, the langauge turns this expression into a graph that is similar to the way my graph was constructed above.  We don't usually see it, or care, but the machine breaks the computation into bite size chuncks, with nodes in a graph at each chunck - the intersection of two atoms combined with some operation (say +) to then be rolled up into further computations.\n",
    "\n",
    "* All this intermmediate data is what we want.  By getting access to this kind of fine grained information about  mathematical operations, we can parse it down into a bunch of interrelated atomistic computations, and.... the point of it all is that by defining how those basic atomistic computations work, we can make them do whatever we want.  -Including turning them into relational constraint networks.\n",
    "[comment]: <> (programs a la miniKanren, and hooking them together automatically into constraint networks.  (In fact, only that last bit - the constraint network, building it automatically - only that part requires the special parsing on display here.  In another Jupyter notebook, we will show the miniKanren part without use of the parse tree)\n",
    "* And when we want to build up rules nets, what we want is to turn those regular old, vanilla arithmetic expressions into declarative relations.  \n",
    "\n",
    "* But when we build up declarative relations, we need to store the current best known answers for each fine grained, atomistic, node of data in the graph.  \n",
    "\n",
    "* This is way more data than you want to keep track of by hand.  We have to store, separately, specially, every combination of two variables into a third for every sub-component of every calculation.\n",
    "\n",
    "* And, we can't really let there be any naming conflicts!\n",
    "\n",
    "\n",
    "* No fun.\n",
    "\n",
    "\n",
    "* Oh wait, we have the computational graph...  Just make the computer do it.\n",
    "\n",
    "### So that's why we store the computational graph in the example above.\n",
    "\n",
    "* We store it in the variables themselves, because, well, it's dead simple with operator overloading.\n",
    "\n",
    "* Great.\n",
    "\n",
    "* What do we do with $C_{b}$ now?"
   ]
  },
  {
   "cell_type": "code",
   "execution_count": 33,
   "metadata": {
    "collapsed": true
   },
   "outputs": [],
   "source": [
    "#get a helper class for the langugage: (this is going to hide good stuff though)\n",
    "from relational_lsplines.simple_hull_rules_language import HullGeometryGenerator\n",
    "\n",
    "#launch it\n",
    "hullrulesnet = HullGeometryGenerator(rtype='gauss',\n",
    "                                     verbose=True) \n",
    "\n",
    "\n",
    "hullrulesnet.set_rules(Cb,disp)"
   ]
  },
  {
   "cell_type": "markdown",
   "metadata": {},
   "source": [
    "* In the code snippet above, we added out rule, $C_{b}$ to a new rules database we call $hullrulesnet$.\n",
    "\n",
    "* Oh!  we also added $disp$ - don't forget we added that rule too!\n",
    "\n",
    "* I wonder what $C_b$ looks like if we print it now?"
   ]
  },
  {
   "cell_type": "code",
   "execution_count": 34,
   "metadata": {
    "collapsed": false
   },
   "outputs": [
    {
     "name": "stdout",
     "output_type": "stream",
     "text": [
      "'Cb'==\n",
      "\n"
     ]
    }
   ],
   "source": [
    "print Cb"
   ]
  },
  {
   "cell_type": "markdown",
   "metadata": {},
   "source": [
    "Whoa!\n",
    "\n",
    "* Our \"interesting\" little graph is gone.  What gives?\n",
    "\n",
    "* Well, as a hint, the aim of this project is to put a bunch of rules together in order to reason in a nice way about ship hull form geometry.  \n",
    "   *   There are going to be a lot of rules\n",
    "   *   Some of them are going to be using the same symbols in different ways.  (Turns out this is a very good thing.  One might say it's the point, really)"
   ]
  },
  {
   "cell_type": "markdown",
   "metadata": {},
   "source": [
    "* Sooo, if a symbol (PStates variable) gets used in more than one rule, what does the graph look like?\n",
    "\n",
    "* Well, you could think of tacking one graph onto the other, just as if you written the two rules as one stuck together at an equal sign somewhere...\n",
    "\n",
    "* But what if you have 2 or more symbols in both rules that's a lot of cross talk.  Things are not going to make sense.\n",
    "\n",
    "### To ensure this is not a problem, a couple of things have to happen:\n",
    "1. When you enter a rule into the rules network, the computational graph must automatically get scrubbed.  This happens automatically when you drop the rule-node into the \"set_rules\" function\n",
    "\n",
    "2. The user must promise never to mix the same variables in two complicated rules at once.  In practice it's easy - if your rule involves several variables, add it to the rules base right away!"
   ]
  },
  {
   "cell_type": "markdown",
   "metadata": {
    "collapsed": true
   },
   "source": [
    "### So you must remember only one thing:  don't reuse variables before setting the rules."
   ]
  },
  {
   "cell_type": "code",
   "execution_count": 35,
   "metadata": {
    "collapsed": false
   },
   "outputs": [
    {
     "data": {
      "text/plain": [
       "'>> hullrulesnet.set_rules(Cb,disp)'"
      ]
     },
     "execution_count": 35,
     "metadata": {},
     "output_type": "execute_result"
    }
   ],
   "source": [
    "## Always set your rules!:\n",
    "#\n",
    "# set rules using a function like this:\n",
    "#\n",
    "\"\"\">> hullrulesnet.set_rules(Cb,disp)\"\"\"\n",
    "# we already did this above so I will not set it again.\n",
    "# if we did we would get a second rule the same as the first.  That would be inefficient."
   ]
  },
  {
   "cell_type": "markdown",
   "metadata": {},
   "source": [
    "* Oh shoot, one more thing must be remembered.  Namely that only $+-*/ <= $ are presently supported in the tiny language\n",
    "\n",
    "### Only $+-*/ <=$ are supported so far.  (Don't worry this is enough to \"do something')\n",
    "\n",
    "\n",
    "* That's it for the gotchas.  Any rule should be fair game as long as it is composed with add subtract multiply and divide.  $<=$ is a less than rule.  I can add $>=$ too but there has really been no need so far.\n",
    "\n",
    "* Sorry that this \"hullrulesnet\" stuff is really \"high level\" - sometimes it's nice to work with the language more directly.  Another notebook will demonstate more language features including some of what \"hullrulesnet\" is doing in some detail.\n",
    "\n",
    "*  What's that?  Perhaps you want to actually see the rules in action right now?  Okay let's do it.  Then will call this one done.\n",
    "\n",
    "* Are you familiar with interval arithmetic?  See the wikipedia article on it for a quick refresher if not.  A notebook will be coming soon.\n",
    "\n",
    "* Right now it may be enough to note that an interval is a continuous line segment from the minimum, denoted by the number on the left hand side of the interval, to the maximum, denoted by the number on the right hand side of the interval.\n",
    "\n",
    "* Computations with intervals are performed such that the answer to a calculation always encloses the set of all real numbers that could be reached by real arithmetic if the values were chosen from the intervals."
   ]
  },
  {
   "cell_type": "code",
   "execution_count": 36,
   "metadata": {
    "collapsed": false
   },
   "outputs": [
    {
     "name": "stdout",
     "output_type": "stream",
     "text": [
      "splitting the interval\n",
      "splitting the interval\n",
      "splitting the interval\n",
      "splitting the interval\n",
      "splitting the interval\n",
      "splitting the interval\n",
      "splitting the interval\n",
      "splitting the interval\n",
      "splitting the interval\n",
      "splitting the interval\n",
      "splitting the interval\n",
      "splitting the interval\n",
      "splitting the interval\n",
      "splitting the interval\n",
      "splitting the interval\n",
      "splitting the interval\n",
      "splitting the interval\n"
     ]
    }
   ],
   "source": [
    "# once again, here is our rule:\n",
    "#\n",
    "#   Cb = Cb == vol/(lwl*bwl*draft)\n",
    "\n",
    "# it lives in our \"design space\"\n",
    "#\n",
    "# which is composed of all these PStates objects:\n",
    "#\n",
    "#  From before:\n",
    "\"\"\"\n",
    "lwl = lp.PStates(name='lwl')  # length (lenght of our ship hull at the waterline)\n",
    "bwl = lp.PStates(name='bwl')  # beam (width)\n",
    "draft = lp.PStates(name='draft') #depth\n",
    "vol = lp.PStates(name='vol') #total displacement (a measure of volume in terms of mass of water \"displaced\")\n",
    "disp = lp.PStates(name='disp') #renaming of vol to make the engineers happy.  (if I'd only stick with it)\n",
    "\n",
    "Cb = lp.PStates(name='Cb')  # block coefficient\n",
    "Cp = lp.PStates(name='Cp')  # prismatic coefficient\n",
    "\"\"\"\n",
    "\n",
    "#\n",
    "#\n",
    "# start inputing data.  Just chose some intervals that kind of make sense.\n",
    "#\n",
    "# we are going to be totally ignoring some of the design space to start!\n",
    "#\n",
    "#\n",
    "# Just for the heck of it I will pick some weird stuff:\n",
    "\n",
    "# Block Coefficient - naval architectrue term composed of the fraction\n",
    "# of the actual  total displacement of a ship hull over the block of volume\n",
    "# this hull would sit in if the extremes of the hull were extruded into a minimally\n",
    "# enclosing \"block\"\n",
    "# - do note that this isn't far from the concept of an interval vector.\n",
    "Cb = Cb == ia(-1.,1.)\n",
    "#\n",
    "# I am picking an interval of -1 to 1 on purpose.  This is a nonsensical choice\n",
    "# but I want to show that our system can cope with it happily.\n",
    "#\n",
    "\n",
    "# water line length \n",
    "# Let's supppose we are designing a ship and we think it needs to be between 80 and 120 length units\n",
    "#\n",
    "# perhaps the customer has made this a constraint.  -It is in the design spec.\n",
    "#\n",
    "lwl = lwl == ia(80.,120.)\n",
    "\n",
    "# Same for displacement, here represented by the total geometric volume we'd like\n",
    "# our vessel to have in units of length units cubed.\n",
    "vol= vol == ia(101000.,202000.)\n",
    "\n",
    "\n",
    "# draft, to be somewhat specific, draft is the\n",
    "#  vertical distance between the waterline \n",
    "#  and the bottom of the hull (keel), with the thickness of the hull included.\n",
    "#\n",
    "# Well our hull has no thickness right now.  Our keel is to be flat at the lowest point.\n",
    "#\n",
    "# draft is here just the vertical distance from the water line of the ship \n",
    "# down to the lowest point.\n",
    "#\n",
    "#\n",
    "draft = draft == ia(-20.,40.)\n",
    "#\n",
    "# Let's make it be a really weird interval.  Just to make trouble.\n",
    "#\n",
    "\n",
    "#\n",
    "# Now is the time to use that \"set_rules\" function alluded to above:\n",
    "#\n",
    "hullrulesnet.set_rules(Cb, \n",
    "                      lwl,\n",
    "                      vol,\n",
    "                      draft)\n",
    "\n",
    "# it's going to automatically propogate the information \n",
    "# we've input here around the network.\n",
    "\n"
   ]
  },
  {
   "cell_type": "markdown",
   "metadata": {},
   "source": [
    "* Hey!  what's all this _splitting_ _the_ _interval_ stuff?\n",
    "* What does our design space look like now?"
   ]
  },
  {
   "cell_type": "code",
   "execution_count": 37,
   "metadata": {
    "collapsed": false
   },
   "outputs": [
    {
     "name": "stdout",
     "output_type": "stream",
     "text": [
      "States([{\n",
      "  disp:ia(101000.0,202000.0)  \n",
      "  v9:ia(-1.0,-5e-26)  \n",
      "  draft:ia(-20.0,-5e-51)  \n",
      "  v8:ia(-2.02e+30,-101000.0)  \n",
      "  Cb:ia(-1.0,-5e-26)  \n",
      "  bwl:ia(42.0833333333,2.525e+53)  \n",
      "  v7:ia(5050.0,2.02e+55)  \n",
      "  vol:ia(101000.0,202000.0)  \n",
      "  lwl:ia(80.0,120.0)  \n",
      "}, {\n",
      "  disp:ia(101000.0,202000.0)  \n",
      "  v9:ia(-1.0,-5e-26)  \n",
      "  vol:ia(101000.0,202000.0)  \n",
      "  v8:ia(-2.02e+30,-101000.0)  \n",
      "  bwl:ia(-2.525e+53,-21.0416666667)  \n",
      "  Cb:ia(-1.0,-5e-26)  \n",
      "  lwl:ia(80.0,120.0)  \n",
      "  v7:ia(-2.02e+55,-2525.0)  \n",
      "  draft:ia(5e-51,40.0)  \n",
      "}, {\n",
      "  disp:ia(101000.0,202000.0)  \n",
      "  v9:ia(5e-26,1.0)  \n",
      "  v8:ia(101000.0,2.02e+30)  \n",
      "  v7:ia(-2.02e+55,-5050.0)  \n",
      "  Cb:ia(5e-26,1.0)  \n",
      "  lwl:ia(80.0,120.0)  \n",
      "  bwl:ia(-2.525e+53,-42.0833333333)  \n",
      "  draft:ia(-20.0,-5e-51)  \n",
      "  vol:ia(101000.0,202000.0)  \n",
      "}, {\n",
      "  disp:ia(101000.0,202000.0)  \n",
      "  v8:ia(101000.0,2.02e+30)  \n",
      "  v9:ia(5e-26,1.0)  \n",
      "  vol:ia(101000.0,202000.0)  \n",
      "  lwl:ia(80.0,120.0)  \n",
      "  bwl:ia(21.0416666667,2.525e+53)  \n",
      "  Cb:ia(5e-26,1.0)  \n",
      "  v7:ia(2525.0,2.02e+55)  \n",
      "  draft:ia(5e-51,40.0)  \n",
      "}])\n"
     ]
    }
   ],
   "source": [
    "print hullrulesnet.rgp.env"
   ]
  },
  {
   "cell_type": "markdown",
   "metadata": {},
   "source": [
    "* Ok, it clearly did something.  (it divided by zero to be precise!)\n",
    "* Furthermore, it __removed__ the zeros from the divisors of the newly split design spaces.\n",
    "* What??  Yes.  And this is a really good thing.\n",
    "* See how many times it split intervals?  Some of the new design spaces were infeasible from the getgo.  Those were discarded.  \n",
    "* That's the only reason I put in the \"weird\" numbers - just to show that the network would automatically deal with them.\n",
    "* The remaining spaces contain __no__ singularities.   \n",
    "* Much work was accomplished by __dividing__ __by__ __zero__!\n",
    "* But maybe we made our design space kind of wonky.  This is a contrived example after all.\n",
    "* Let's fix it with another rule"
   ]
  },
  {
   "cell_type": "code",
   "execution_count": 38,
   "metadata": {
    "collapsed": false
   },
   "outputs": [],
   "source": [
    "Cb = Cb == ia(0.,1.)\n",
    "\n",
    "\n",
    "\n",
    "hullrulesnet.set_rules(Cb)\n",
    "\n"
   ]
  },
  {
   "cell_type": "code",
   "execution_count": 39,
   "metadata": {
    "collapsed": false
   },
   "outputs": [
    {
     "name": "stdout",
     "output_type": "stream",
     "text": [
      "States([{\n",
      "  disp:ia(101000.0,202000.0)  \n",
      "  Cb:ia(5e-26,1.0)  \n",
      "  v7:ia(-2.02e+55,-5050.0)  \n",
      "  draft:ia(-20.0,-5e-51)  \n",
      "  v9:ia(5e-26,1.0)  \n",
      "  v8:ia(101000.0,2.02e+30)  \n",
      "  lwl:ia(80.0,120.0)  \n",
      "  bwl:ia(-2.525e+53,-42.0833333333)  \n",
      "  vol:ia(101000.0,202000.0)  \n",
      "}, {\n",
      "  Cb:ia(5e-26,1.0)  \n",
      "  v7:ia(2525.0,2.02e+55)  \n",
      "  draft:ia(5e-51,40.0)  \n",
      "  vol:ia(101000.0,202000.0)  \n",
      "  v8:ia(101000.0,2.02e+30)  \n",
      "  v9:ia(5e-26,1.0)  \n",
      "  lwl:ia(80.0,120.0)  \n",
      "  disp:ia(101000.0,202000.0)  \n",
      "  bwl:ia(21.0416666667,2.525e+53)  \n",
      "}])\n"
     ]
    }
   ],
   "source": [
    "print hullrulesnet.rgp.env"
   ]
  },
  {
   "cell_type": "markdown",
   "metadata": {},
   "source": [
    "* Still to crazy for me.  Draft can still be negative.  Let's get rid of that.\n",
    "* Oh, since we are looking at this, you might wonder what's with all those random symbols like _v17_ and the like?  -We mentioned them above..."
   ]
  },
  {
   "cell_type": "code",
   "execution_count": 40,
   "metadata": {
    "collapsed": false,
    "scrolled": true
   },
   "outputs": [
    {
     "name": "stdout",
     "output_type": "stream",
     "text": [
      "States([{\n",
      "  Cb:ia(5e-26,1.0)  \n",
      "  v7:ia(2525.0,1.01e+30)  \n",
      "  draft:ia(2.0,40.0)  \n",
      "  vol:ia(101000.0,202000.0)  \n",
      "  v8:ia(101000.0,2.02e+30)  \n",
      "  v9:ia(5e-26,1.0)  \n",
      "  lwl:ia(80.0,120.0)  \n",
      "  disp:ia(101000.0,202000.0)  \n",
      "  bwl:ia(21.0416666667,1.2625e+28)  \n",
      "}])\n"
     ]
    }
   ],
   "source": [
    "draft = draft == ia(2.,40.)\n",
    "\n",
    "hullrulesnet.set_rules(draft)\n",
    "\n",
    "print hullrulesnet.rgp.env"
   ]
  },
  {
   "cell_type": "markdown",
   "metadata": {},
   "source": [
    "* Hey look! we got a design interval for $bwl$ even though we never put anything in!\n",
    "* How did that happen?  \n",
    "\n",
    "Well the $C_{b}$ relationship we input above sent information around the constraint network and the relation figured out that $bwl$ had to be in this range to make everything consistent.\n",
    "\n",
    "* (It \"figured this out\" via relational interval arithmetic, something that will be explained elsewhere)\n",
    "* Let continue to improve our bounds on $bwl$ indirectly.  "
   ]
  },
  {
   "cell_type": "code",
   "execution_count": 41,
   "metadata": {
    "collapsed": false
   },
   "outputs": [
    {
     "name": "stdout",
     "output_type": "stream",
     "text": [
      "States([{\n",
      "  v7:ia(2970.58823529,144285.714286)  \n",
      "  Cb:ia(0.7,0.85)  \n",
      "  draft:ia(2.0,40.0)  \n",
      "  vol:ia(101000.0,202000.0)  \n",
      "  v8:ia(118823.529412,288571.428571)  \n",
      "  v9:ia(0.7,0.85)  \n",
      "  disp:ia(101000.0,202000.0)  \n",
      "  lwl:ia(80.0,120.0)  \n",
      "  bwl:ia(24.7549019608,1803.57142857)  \n",
      "}])\n"
     ]
    }
   ],
   "source": [
    "# a more sensible design interval for the block coefficient might be this:\n",
    "Cb = Cb == ia(.7,.85)\n",
    "\n",
    "\n",
    "\n",
    "hullrulesnet.set_rules(Cb)\n",
    "\n",
    "print hullrulesnet.rgp.env"
   ]
  },
  {
   "cell_type": "code",
   "execution_count": 42,
   "metadata": {
    "collapsed": false
   },
   "outputs": [
    {
     "name": "stdout",
     "output_type": "stream",
     "text": [
      "States([{\n",
      "  v7:ia(2970.58823529,14428.5714286)  \n",
      "  draft:ia(20.0,40.0)  \n",
      "  vol:ia(101000.0,202000.0)  \n",
      "  v8:ia(118823.529412,288571.428571)  \n",
      "  Cb:ia(0.7,0.85)  \n",
      "  v9:ia(0.7,0.85)  \n",
      "  lwl:ia(80.0,120.0)  \n",
      "  disp:ia(101000.0,202000.0)  \n",
      "  bwl:ia(24.7549019608,180.357142857)  \n",
      "}])\n"
     ]
    }
   ],
   "source": [
    "# and draft maybe something like this:\n",
    "\n",
    "draft = draft == ia(20.,40.)\n",
    "\n",
    "\n",
    "\n",
    "hullrulesnet.set_rules(draft)\n",
    "\n",
    "print hullrulesnet.rgp.env"
   ]
  },
  {
   "cell_type": "markdown",
   "metadata": {},
   "source": [
    "* Well, this example isn't perfect.  \n",
    "* But you can get a sense how it goes\n",
    "* We input what we know and the relational constraints enforce what we input and figure out what else can be deduced from it.\n",
    "* The design space is only ever narrowed (splitting only narrows as well) once it becomes interval valued.  (This is really important - to be elucidated elsewhere!)\n",
    "* The part where we split the designspace around the division by zero was a bit convoluted and complicated.  Sorry about that."
   ]
  },
  {
   "cell_type": "markdown",
   "metadata": {},
   "source": [
    "* Wait one second!  What about the \"random\" symbols like \"v16\" and \"v17\" again?\n",
    "* The answer is that those are conective variables that the language is managing.\n",
    "* Those store partial results of our rules and connect one \"atomistic relational expression\" to another (or several).  In this way we are free to compose rules with some freedom from the underlying relational logic.\n",
    "* Without them we would have to construct connectives for partial results by hand -  in order to run the rules in an iterative network (for convergence... idemoptence... I am digressing).\n",
    "* This would not be very fun.  In fact, I would say this would limit the applicability of our system to \"small models\" and \"small experimental code\".\n",
    "* Luckily, this doesn't have to be the case."
   ]
  },
  {
   "cell_type": "code",
   "execution_count": null,
   "metadata": {
    "collapsed": true
   },
   "outputs": [],
   "source": []
  }
 ],
 "metadata": {
  "anaconda-cloud": {},
  "kernelspec": {
   "display_name": "Python [conda root]",
   "language": "python",
   "name": "conda-root-py"
  },
  "language_info": {
   "codemirror_mode": {
    "name": "ipython",
    "version": 2
   },
   "file_extension": ".py",
   "mimetype": "text/x-python",
   "name": "python",
   "nbconvert_exporter": "python",
   "pygments_lexer": "ipython2",
   "version": "2.7.12"
  }
 },
 "nbformat": 4,
 "nbformat_minor": 1
}
